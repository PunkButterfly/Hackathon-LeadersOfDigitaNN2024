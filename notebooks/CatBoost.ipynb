{
  "nbformat": 4,
  "nbformat_minor": 0,
  "metadata": {
    "colab": {
      "provenance": []
    },
    "kernelspec": {
      "name": "python3",
      "display_name": "Python 3"
    },
    "language_info": {
      "name": "python"
    }
  },
  "cells": [
    {
      "cell_type": "code",
      "execution_count": 1,
      "metadata": {
        "id": "HdLewAGJHp3j",
        "outputId": "5c1e2785-117f-4ca5-a883-32b14c9abd07",
        "colab": {
          "base_uri": "https://localhost:8080/"
        }
      },
      "outputs": [
        {
          "output_type": "stream",
          "name": "stdout",
          "text": [
            "Mounted at /content/drive\n"
          ]
        }
      ],
      "source": [
        "from google.colab import drive\n",
        "drive.mount('/content/drive')"
      ]
    },
    {
      "cell_type": "code",
      "source": [
        "!pip install catboost"
      ],
      "metadata": {
        "id": "BdH3VZJ0PBK5",
        "outputId": "f1c02282-512c-4d7b-85e3-ad929760fb10",
        "colab": {
          "base_uri": "https://localhost:8080/"
        }
      },
      "execution_count": 2,
      "outputs": [
        {
          "output_type": "stream",
          "name": "stdout",
          "text": [
            "Collecting catboost\n",
            "  Downloading catboost-1.2.7-cp310-cp310-manylinux2014_x86_64.whl.metadata (1.2 kB)\n",
            "Requirement already satisfied: graphviz in /usr/local/lib/python3.10/dist-packages (from catboost) (0.20.3)\n",
            "Requirement already satisfied: matplotlib in /usr/local/lib/python3.10/dist-packages (from catboost) (3.7.1)\n",
            "Requirement already satisfied: numpy<2.0,>=1.16.0 in /usr/local/lib/python3.10/dist-packages (from catboost) (1.26.4)\n",
            "Requirement already satisfied: pandas>=0.24 in /usr/local/lib/python3.10/dist-packages (from catboost) (2.2.2)\n",
            "Requirement already satisfied: scipy in /usr/local/lib/python3.10/dist-packages (from catboost) (1.13.1)\n",
            "Requirement already satisfied: plotly in /usr/local/lib/python3.10/dist-packages (from catboost) (5.24.1)\n",
            "Requirement already satisfied: six in /usr/local/lib/python3.10/dist-packages (from catboost) (1.16.0)\n",
            "Requirement already satisfied: python-dateutil>=2.8.2 in /usr/local/lib/python3.10/dist-packages (from pandas>=0.24->catboost) (2.8.2)\n",
            "Requirement already satisfied: pytz>=2020.1 in /usr/local/lib/python3.10/dist-packages (from pandas>=0.24->catboost) (2024.2)\n",
            "Requirement already satisfied: tzdata>=2022.7 in /usr/local/lib/python3.10/dist-packages (from pandas>=0.24->catboost) (2024.2)\n",
            "Requirement already satisfied: contourpy>=1.0.1 in /usr/local/lib/python3.10/dist-packages (from matplotlib->catboost) (1.3.0)\n",
            "Requirement already satisfied: cycler>=0.10 in /usr/local/lib/python3.10/dist-packages (from matplotlib->catboost) (0.12.1)\n",
            "Requirement already satisfied: fonttools>=4.22.0 in /usr/local/lib/python3.10/dist-packages (from matplotlib->catboost) (4.54.1)\n",
            "Requirement already satisfied: kiwisolver>=1.0.1 in /usr/local/lib/python3.10/dist-packages (from matplotlib->catboost) (1.4.7)\n",
            "Requirement already satisfied: packaging>=20.0 in /usr/local/lib/python3.10/dist-packages (from matplotlib->catboost) (24.1)\n",
            "Requirement already satisfied: pillow>=6.2.0 in /usr/local/lib/python3.10/dist-packages (from matplotlib->catboost) (10.4.0)\n",
            "Requirement already satisfied: pyparsing>=2.3.1 in /usr/local/lib/python3.10/dist-packages (from matplotlib->catboost) (3.2.0)\n",
            "Requirement already satisfied: tenacity>=6.2.0 in /usr/local/lib/python3.10/dist-packages (from plotly->catboost) (9.0.0)\n",
            "Downloading catboost-1.2.7-cp310-cp310-manylinux2014_x86_64.whl (98.7 MB)\n",
            "\u001b[2K   \u001b[90m━━━━━━━━━━━━━━━━━━━━━━━━━━━━━━━━━━━━━━━━\u001b[0m \u001b[32m98.7/98.7 MB\u001b[0m \u001b[31m9.8 MB/s\u001b[0m eta \u001b[36m0:00:00\u001b[0m\n",
            "\u001b[?25hInstalling collected packages: catboost\n",
            "Successfully installed catboost-1.2.7\n"
          ]
        }
      ]
    },
    {
      "cell_type": "code",
      "source": [
        "import numpy as np\n",
        "import pandas as pd"
      ],
      "metadata": {
        "id": "aXe2e7nhQAGi"
      },
      "execution_count": 5,
      "outputs": []
    },
    {
      "cell_type": "code",
      "source": [
        "dataset_path=\"/content/drive/MyDrive/Hacks/LeadersOfDigital NN 2024/data\"\n",
        "# splitted_dataset_path = '/content/drive/MyDrive/Hacks/Atomic2024/splitted_dataset'"
      ],
      "metadata": {
        "id": "NGRZdm1zPNZl"
      },
      "execution_count": 7,
      "outputs": []
    },
    {
      "cell_type": "code",
      "source": [
        "users = pd.read_csv(f'{dataset_path}/cntrbtrs_clnts_ops_trn.csv', delimiter=';', encoding='cp1251', dtype={'okato': str, 'pstl_code': str}, parse_dates=['accnt_bgn_date'])\n",
        "trunc = pd.read_csv(f'{dataset_path}/trnsctns_ops_trn.csv', delimiter=';', encoding='cp1251', parse_dates=['oprtn_date'])"
      ],
      "metadata": {
        "id": "iLW_nZ6DPf1r"
      },
      "execution_count": 8,
      "outputs": []
    },
    {
      "cell_type": "code",
      "source": [
        "import json\n",
        "from sklearn.metrics import accuracy_score, f1_score, recall_score, precision_score\n",
        "from sklearn.model_selection import train_test_split\n",
        "from catboost import CatBoostRegressor, CatBoostClassifier, Pool"
      ],
      "metadata": {
        "id": "AYci7MM2QHHz"
      },
      "execution_count": 25,
      "outputs": []
    },
    {
      "cell_type": "code",
      "source": [
        "users.head()\n",
        "# erly_pnsn_flg"
      ],
      "metadata": {
        "id": "pEK40SkzSPBV",
        "outputId": "7114522b-b7d8-4405-a07f-2d7ad02f944e",
        "colab": {
          "base_uri": "https://localhost:8080/",
          "height": 342
        }
      },
      "execution_count": 15,
      "outputs": [
        {
          "output_type": "execute_result",
          "data": {
            "text/plain": [
              "   slctn_nmbr                             clnt_id  \\\n",
              "0           0  0x03ED62E56DAEA24B96D6F1252D713286   \n",
              "1           0  0x15138C4A822F1C45A819FCBE6657B810   \n",
              "2           3  0x943D2C768A4FB38311E659ACF7E960C3   \n",
              "3           2  0x9CAE18EC4F30054C83C6C78FF70D124A   \n",
              "4           2  0xCB416F5FE5D58E41822B4E9A5209747F   \n",
              "\n",
              "                             accnt_id gndr  brth_yr  prsnt_age accnt_bgn_date  \\\n",
              "0  0xFFB14DE2D28AAD45B08AC54ADDFE6AD2    ж     1960         64     2005-12-21   \n",
              "1  0x222F5E5BA3715F418662A3C65B0B051F    м     1954         70     2009-06-29   \n",
              "2  0x943D2C768A4FB38311E659ACF7E960C5    м     1955         69     2006-12-25   \n",
              "3  0xB7BAA18DCFE2E842A7AF84BBE185265C    ж     1962         62     2013-09-03   \n",
              "4  0x68D14914CF3A79408F6A6E097C1A61AF    м     1955         69     2010-12-06   \n",
              "\n",
              "   cprtn_prd_d  erly_pnsn_flg          accnt_status  ...             dstrct  \\\n",
              "0           96              0  Накопительный период  ...                NaN   \n",
              "1          283              0  Накопительный период  ...                NaN   \n",
              "2           88              0  Накопительный период  ...                NaN   \n",
              "3         1301              0  Накопительный период  ...  АЛЬМЕТЬЕВСКИЙ Р-Н   \n",
              "4          106              0  Накопительный период  ...     ВОТКИНСКИЙ Р-Н   \n",
              "\n",
              "            city    sttlmnt pstl_code        okato  phn email   lk assgn_npo  \\\n",
              "0         ОМСК Г        NaN    644001  52000000000  нет   нет  нет       нет   \n",
              "1    БЕЛОГОРСК Г        NaN    676852  10000000000  нет   нет  нет       нет   \n",
              "2            NaN        NaN    109451  45000000000  нет   нет  нет       нет   \n",
              "3  АЛЬМЕТЬЕВСК Г        NaN    423464  92000000000  нет   нет  нет       нет   \n",
              "4            NaN  МОЛЧАНЫ Д    427415  94000000000  нет   нет  нет       нет   \n",
              "\n",
              "  assgn_ops  \n",
              "0       нет  \n",
              "1       нет  \n",
              "2       нет  \n",
              "3       нет  \n",
              "4       нет  \n",
              "\n",
              "[5 rows x 25 columns]"
            ],
            "text/html": [
              "\n",
              "  <div id=\"df-64a3a5a1-8c62-43d9-b442-a58c50b1a9da\" class=\"colab-df-container\">\n",
              "    <div>\n",
              "<style scoped>\n",
              "    .dataframe tbody tr th:only-of-type {\n",
              "        vertical-align: middle;\n",
              "    }\n",
              "\n",
              "    .dataframe tbody tr th {\n",
              "        vertical-align: top;\n",
              "    }\n",
              "\n",
              "    .dataframe thead th {\n",
              "        text-align: right;\n",
              "    }\n",
              "</style>\n",
              "<table border=\"1\" class=\"dataframe\">\n",
              "  <thead>\n",
              "    <tr style=\"text-align: right;\">\n",
              "      <th></th>\n",
              "      <th>slctn_nmbr</th>\n",
              "      <th>clnt_id</th>\n",
              "      <th>accnt_id</th>\n",
              "      <th>gndr</th>\n",
              "      <th>brth_yr</th>\n",
              "      <th>prsnt_age</th>\n",
              "      <th>accnt_bgn_date</th>\n",
              "      <th>cprtn_prd_d</th>\n",
              "      <th>erly_pnsn_flg</th>\n",
              "      <th>accnt_status</th>\n",
              "      <th>...</th>\n",
              "      <th>dstrct</th>\n",
              "      <th>city</th>\n",
              "      <th>sttlmnt</th>\n",
              "      <th>pstl_code</th>\n",
              "      <th>okato</th>\n",
              "      <th>phn</th>\n",
              "      <th>email</th>\n",
              "      <th>lk</th>\n",
              "      <th>assgn_npo</th>\n",
              "      <th>assgn_ops</th>\n",
              "    </tr>\n",
              "  </thead>\n",
              "  <tbody>\n",
              "    <tr>\n",
              "      <th>0</th>\n",
              "      <td>0</td>\n",
              "      <td>0x03ED62E56DAEA24B96D6F1252D713286</td>\n",
              "      <td>0xFFB14DE2D28AAD45B08AC54ADDFE6AD2</td>\n",
              "      <td>ж</td>\n",
              "      <td>1960</td>\n",
              "      <td>64</td>\n",
              "      <td>2005-12-21</td>\n",
              "      <td>96</td>\n",
              "      <td>0</td>\n",
              "      <td>Накопительный период</td>\n",
              "      <td>...</td>\n",
              "      <td>NaN</td>\n",
              "      <td>ОМСК Г</td>\n",
              "      <td>NaN</td>\n",
              "      <td>644001</td>\n",
              "      <td>52000000000</td>\n",
              "      <td>нет</td>\n",
              "      <td>нет</td>\n",
              "      <td>нет</td>\n",
              "      <td>нет</td>\n",
              "      <td>нет</td>\n",
              "    </tr>\n",
              "    <tr>\n",
              "      <th>1</th>\n",
              "      <td>0</td>\n",
              "      <td>0x15138C4A822F1C45A819FCBE6657B810</td>\n",
              "      <td>0x222F5E5BA3715F418662A3C65B0B051F</td>\n",
              "      <td>м</td>\n",
              "      <td>1954</td>\n",
              "      <td>70</td>\n",
              "      <td>2009-06-29</td>\n",
              "      <td>283</td>\n",
              "      <td>0</td>\n",
              "      <td>Накопительный период</td>\n",
              "      <td>...</td>\n",
              "      <td>NaN</td>\n",
              "      <td>БЕЛОГОРСК Г</td>\n",
              "      <td>NaN</td>\n",
              "      <td>676852</td>\n",
              "      <td>10000000000</td>\n",
              "      <td>нет</td>\n",
              "      <td>нет</td>\n",
              "      <td>нет</td>\n",
              "      <td>нет</td>\n",
              "      <td>нет</td>\n",
              "    </tr>\n",
              "    <tr>\n",
              "      <th>2</th>\n",
              "      <td>3</td>\n",
              "      <td>0x943D2C768A4FB38311E659ACF7E960C3</td>\n",
              "      <td>0x943D2C768A4FB38311E659ACF7E960C5</td>\n",
              "      <td>м</td>\n",
              "      <td>1955</td>\n",
              "      <td>69</td>\n",
              "      <td>2006-12-25</td>\n",
              "      <td>88</td>\n",
              "      <td>0</td>\n",
              "      <td>Накопительный период</td>\n",
              "      <td>...</td>\n",
              "      <td>NaN</td>\n",
              "      <td>NaN</td>\n",
              "      <td>NaN</td>\n",
              "      <td>109451</td>\n",
              "      <td>45000000000</td>\n",
              "      <td>нет</td>\n",
              "      <td>нет</td>\n",
              "      <td>нет</td>\n",
              "      <td>нет</td>\n",
              "      <td>нет</td>\n",
              "    </tr>\n",
              "    <tr>\n",
              "      <th>3</th>\n",
              "      <td>2</td>\n",
              "      <td>0x9CAE18EC4F30054C83C6C78FF70D124A</td>\n",
              "      <td>0xB7BAA18DCFE2E842A7AF84BBE185265C</td>\n",
              "      <td>ж</td>\n",
              "      <td>1962</td>\n",
              "      <td>62</td>\n",
              "      <td>2013-09-03</td>\n",
              "      <td>1301</td>\n",
              "      <td>0</td>\n",
              "      <td>Накопительный период</td>\n",
              "      <td>...</td>\n",
              "      <td>АЛЬМЕТЬЕВСКИЙ Р-Н</td>\n",
              "      <td>АЛЬМЕТЬЕВСК Г</td>\n",
              "      <td>NaN</td>\n",
              "      <td>423464</td>\n",
              "      <td>92000000000</td>\n",
              "      <td>нет</td>\n",
              "      <td>нет</td>\n",
              "      <td>нет</td>\n",
              "      <td>нет</td>\n",
              "      <td>нет</td>\n",
              "    </tr>\n",
              "    <tr>\n",
              "      <th>4</th>\n",
              "      <td>2</td>\n",
              "      <td>0xCB416F5FE5D58E41822B4E9A5209747F</td>\n",
              "      <td>0x68D14914CF3A79408F6A6E097C1A61AF</td>\n",
              "      <td>м</td>\n",
              "      <td>1955</td>\n",
              "      <td>69</td>\n",
              "      <td>2010-12-06</td>\n",
              "      <td>106</td>\n",
              "      <td>0</td>\n",
              "      <td>Накопительный период</td>\n",
              "      <td>...</td>\n",
              "      <td>ВОТКИНСКИЙ Р-Н</td>\n",
              "      <td>NaN</td>\n",
              "      <td>МОЛЧАНЫ Д</td>\n",
              "      <td>427415</td>\n",
              "      <td>94000000000</td>\n",
              "      <td>нет</td>\n",
              "      <td>нет</td>\n",
              "      <td>нет</td>\n",
              "      <td>нет</td>\n",
              "      <td>нет</td>\n",
              "    </tr>\n",
              "  </tbody>\n",
              "</table>\n",
              "<p>5 rows × 25 columns</p>\n",
              "</div>\n",
              "    <div class=\"colab-df-buttons\">\n",
              "\n",
              "  <div class=\"colab-df-container\">\n",
              "    <button class=\"colab-df-convert\" onclick=\"convertToInteractive('df-64a3a5a1-8c62-43d9-b442-a58c50b1a9da')\"\n",
              "            title=\"Convert this dataframe to an interactive table.\"\n",
              "            style=\"display:none;\">\n",
              "\n",
              "  <svg xmlns=\"http://www.w3.org/2000/svg\" height=\"24px\" viewBox=\"0 -960 960 960\">\n",
              "    <path d=\"M120-120v-720h720v720H120Zm60-500h600v-160H180v160Zm220 220h160v-160H400v160Zm0 220h160v-160H400v160ZM180-400h160v-160H180v160Zm440 0h160v-160H620v160ZM180-180h160v-160H180v160Zm440 0h160v-160H620v160Z\"/>\n",
              "  </svg>\n",
              "    </button>\n",
              "\n",
              "  <style>\n",
              "    .colab-df-container {\n",
              "      display:flex;\n",
              "      gap: 12px;\n",
              "    }\n",
              "\n",
              "    .colab-df-convert {\n",
              "      background-color: #E8F0FE;\n",
              "      border: none;\n",
              "      border-radius: 50%;\n",
              "      cursor: pointer;\n",
              "      display: none;\n",
              "      fill: #1967D2;\n",
              "      height: 32px;\n",
              "      padding: 0 0 0 0;\n",
              "      width: 32px;\n",
              "    }\n",
              "\n",
              "    .colab-df-convert:hover {\n",
              "      background-color: #E2EBFA;\n",
              "      box-shadow: 0px 1px 2px rgba(60, 64, 67, 0.3), 0px 1px 3px 1px rgba(60, 64, 67, 0.15);\n",
              "      fill: #174EA6;\n",
              "    }\n",
              "\n",
              "    .colab-df-buttons div {\n",
              "      margin-bottom: 4px;\n",
              "    }\n",
              "\n",
              "    [theme=dark] .colab-df-convert {\n",
              "      background-color: #3B4455;\n",
              "      fill: #D2E3FC;\n",
              "    }\n",
              "\n",
              "    [theme=dark] .colab-df-convert:hover {\n",
              "      background-color: #434B5C;\n",
              "      box-shadow: 0px 1px 3px 1px rgba(0, 0, 0, 0.15);\n",
              "      filter: drop-shadow(0px 1px 2px rgba(0, 0, 0, 0.3));\n",
              "      fill: #FFFFFF;\n",
              "    }\n",
              "  </style>\n",
              "\n",
              "    <script>\n",
              "      const buttonEl =\n",
              "        document.querySelector('#df-64a3a5a1-8c62-43d9-b442-a58c50b1a9da button.colab-df-convert');\n",
              "      buttonEl.style.display =\n",
              "        google.colab.kernel.accessAllowed ? 'block' : 'none';\n",
              "\n",
              "      async function convertToInteractive(key) {\n",
              "        const element = document.querySelector('#df-64a3a5a1-8c62-43d9-b442-a58c50b1a9da');\n",
              "        const dataTable =\n",
              "          await google.colab.kernel.invokeFunction('convertToInteractive',\n",
              "                                                    [key], {});\n",
              "        if (!dataTable) return;\n",
              "\n",
              "        const docLinkHtml = 'Like what you see? Visit the ' +\n",
              "          '<a target=\"_blank\" href=https://colab.research.google.com/notebooks/data_table.ipynb>data table notebook</a>'\n",
              "          + ' to learn more about interactive tables.';\n",
              "        element.innerHTML = '';\n",
              "        dataTable['output_type'] = 'display_data';\n",
              "        await google.colab.output.renderOutput(dataTable, element);\n",
              "        const docLink = document.createElement('div');\n",
              "        docLink.innerHTML = docLinkHtml;\n",
              "        element.appendChild(docLink);\n",
              "      }\n",
              "    </script>\n",
              "  </div>\n",
              "\n",
              "\n",
              "<div id=\"df-90129a05-bdbb-4a6e-8ff4-2faaa713479d\">\n",
              "  <button class=\"colab-df-quickchart\" onclick=\"quickchart('df-90129a05-bdbb-4a6e-8ff4-2faaa713479d')\"\n",
              "            title=\"Suggest charts\"\n",
              "            style=\"display:none;\">\n",
              "\n",
              "<svg xmlns=\"http://www.w3.org/2000/svg\" height=\"24px\"viewBox=\"0 0 24 24\"\n",
              "     width=\"24px\">\n",
              "    <g>\n",
              "        <path d=\"M19 3H5c-1.1 0-2 .9-2 2v14c0 1.1.9 2 2 2h14c1.1 0 2-.9 2-2V5c0-1.1-.9-2-2-2zM9 17H7v-7h2v7zm4 0h-2V7h2v10zm4 0h-2v-4h2v4z\"/>\n",
              "    </g>\n",
              "</svg>\n",
              "  </button>\n",
              "\n",
              "<style>\n",
              "  .colab-df-quickchart {\n",
              "      --bg-color: #E8F0FE;\n",
              "      --fill-color: #1967D2;\n",
              "      --hover-bg-color: #E2EBFA;\n",
              "      --hover-fill-color: #174EA6;\n",
              "      --disabled-fill-color: #AAA;\n",
              "      --disabled-bg-color: #DDD;\n",
              "  }\n",
              "\n",
              "  [theme=dark] .colab-df-quickchart {\n",
              "      --bg-color: #3B4455;\n",
              "      --fill-color: #D2E3FC;\n",
              "      --hover-bg-color: #434B5C;\n",
              "      --hover-fill-color: #FFFFFF;\n",
              "      --disabled-bg-color: #3B4455;\n",
              "      --disabled-fill-color: #666;\n",
              "  }\n",
              "\n",
              "  .colab-df-quickchart {\n",
              "    background-color: var(--bg-color);\n",
              "    border: none;\n",
              "    border-radius: 50%;\n",
              "    cursor: pointer;\n",
              "    display: none;\n",
              "    fill: var(--fill-color);\n",
              "    height: 32px;\n",
              "    padding: 0;\n",
              "    width: 32px;\n",
              "  }\n",
              "\n",
              "  .colab-df-quickchart:hover {\n",
              "    background-color: var(--hover-bg-color);\n",
              "    box-shadow: 0 1px 2px rgba(60, 64, 67, 0.3), 0 1px 3px 1px rgba(60, 64, 67, 0.15);\n",
              "    fill: var(--button-hover-fill-color);\n",
              "  }\n",
              "\n",
              "  .colab-df-quickchart-complete:disabled,\n",
              "  .colab-df-quickchart-complete:disabled:hover {\n",
              "    background-color: var(--disabled-bg-color);\n",
              "    fill: var(--disabled-fill-color);\n",
              "    box-shadow: none;\n",
              "  }\n",
              "\n",
              "  .colab-df-spinner {\n",
              "    border: 2px solid var(--fill-color);\n",
              "    border-color: transparent;\n",
              "    border-bottom-color: var(--fill-color);\n",
              "    animation:\n",
              "      spin 1s steps(1) infinite;\n",
              "  }\n",
              "\n",
              "  @keyframes spin {\n",
              "    0% {\n",
              "      border-color: transparent;\n",
              "      border-bottom-color: var(--fill-color);\n",
              "      border-left-color: var(--fill-color);\n",
              "    }\n",
              "    20% {\n",
              "      border-color: transparent;\n",
              "      border-left-color: var(--fill-color);\n",
              "      border-top-color: var(--fill-color);\n",
              "    }\n",
              "    30% {\n",
              "      border-color: transparent;\n",
              "      border-left-color: var(--fill-color);\n",
              "      border-top-color: var(--fill-color);\n",
              "      border-right-color: var(--fill-color);\n",
              "    }\n",
              "    40% {\n",
              "      border-color: transparent;\n",
              "      border-right-color: var(--fill-color);\n",
              "      border-top-color: var(--fill-color);\n",
              "    }\n",
              "    60% {\n",
              "      border-color: transparent;\n",
              "      border-right-color: var(--fill-color);\n",
              "    }\n",
              "    80% {\n",
              "      border-color: transparent;\n",
              "      border-right-color: var(--fill-color);\n",
              "      border-bottom-color: var(--fill-color);\n",
              "    }\n",
              "    90% {\n",
              "      border-color: transparent;\n",
              "      border-bottom-color: var(--fill-color);\n",
              "    }\n",
              "  }\n",
              "</style>\n",
              "\n",
              "  <script>\n",
              "    async function quickchart(key) {\n",
              "      const quickchartButtonEl =\n",
              "        document.querySelector('#' + key + ' button');\n",
              "      quickchartButtonEl.disabled = true;  // To prevent multiple clicks.\n",
              "      quickchartButtonEl.classList.add('colab-df-spinner');\n",
              "      try {\n",
              "        const charts = await google.colab.kernel.invokeFunction(\n",
              "            'suggestCharts', [key], {});\n",
              "      } catch (error) {\n",
              "        console.error('Error during call to suggestCharts:', error);\n",
              "      }\n",
              "      quickchartButtonEl.classList.remove('colab-df-spinner');\n",
              "      quickchartButtonEl.classList.add('colab-df-quickchart-complete');\n",
              "    }\n",
              "    (() => {\n",
              "      let quickchartButtonEl =\n",
              "        document.querySelector('#df-90129a05-bdbb-4a6e-8ff4-2faaa713479d button');\n",
              "      quickchartButtonEl.style.display =\n",
              "        google.colab.kernel.accessAllowed ? 'block' : 'none';\n",
              "    })();\n",
              "  </script>\n",
              "</div>\n",
              "    </div>\n",
              "  </div>\n"
            ],
            "application/vnd.google.colaboratory.intrinsic+json": {
              "type": "dataframe"
            }
          },
          "metadata": {},
          "execution_count": 15
        }
      ]
    },
    {
      "cell_type": "code",
      "source": [
        "data = users.copy()\n",
        "\n",
        "data['gndr'] = data['gndr'].replace({'ж': 0, 'м': 1})\n",
        "\n",
        "data = data[['accnt_id', 'gndr', 'erly_pnsn_flg']]\\\n",
        "    .astype({\n",
        "        # 'brth_yr': 'int64',\n",
        "        # 'prsnt_age': 'int64',\n",
        "        'gndr': 'int64',\n",
        "        # 'erly_pnsn_flg': 'int64',\n",
        "        })\n",
        "\n",
        "target_column_name = 'erly_pnsn_flg'\n",
        "\n",
        "X_data = data.drop([target_column_name], axis=1)\n",
        "y_data = data[target_column_name]\n",
        "\n",
        "X_train, X_test, y_train, y_test = train_test_split(\n",
        "    X_data,\n",
        "    y_data,\n",
        "    test_size=0.99,\n",
        "    random_state=42,\n",
        "    shuffle=True,\n",
        "    stratify=data[target_column_name])"
      ],
      "metadata": {
        "id": "AM4oPkpcTSsF",
        "outputId": "d1101369-92fc-47ea-939a-c51f3fe5e49e",
        "colab": {
          "base_uri": "https://localhost:8080/"
        }
      },
      "execution_count": 247,
      "outputs": [
        {
          "output_type": "stream",
          "name": "stderr",
          "text": [
            "<ipython-input-247-0fc755be4483>:3: FutureWarning: Downcasting behavior in `replace` is deprecated and will be removed in a future version. To retain the old behavior, explicitly call `result.infer_objects(copy=False)`. To opt-in to the future behavior, set `pd.set_option('future.no_silent_downcasting', True)`\n",
            "  data['gndr'] = data['gndr'].replace({'ж': 0, 'м': 1})\n"
          ]
        }
      ]
    },
    {
      "cell_type": "code",
      "source": [
        "class DataProccesor:\n",
        "    def process(self, data: pd.DataFrame):\n",
        "        self.processed_data = data\\\n",
        "            .astype({\n",
        "                # 'brth_yr': 'int64',\n",
        "                # 'prsnt_age': 'int64',\n",
        "                'gndr': 'int64',\n",
        "                # 'erly_pnsn_flg': 'int64',\n",
        "                })\n",
        "        return self.processed_data"
      ],
      "metadata": {
        "id": "epYwoqy8oKqt"
      },
      "execution_count": 252,
      "outputs": []
    },
    {
      "cell_type": "code",
      "source": [
        "data_processor = DataProccesor()\n",
        "processed_data = data_processor.process(X_test)"
      ],
      "metadata": {
        "id": "qWqd3FK2pGf0"
      },
      "execution_count": 253,
      "outputs": []
    },
    {
      "cell_type": "code",
      "source": [
        "class CatBoostTrainer:\n",
        "    def __init__(self, iterations: int, depth: int):\n",
        "        self.iterations = iterations\n",
        "        self.depth = depth\n",
        "\n",
        "        self.cbc = None\n",
        "\n",
        "    def train(self, X_train, y_train):\n",
        "        # categorical_features = train_data.dtypes[\n",
        "        #     (train_data.dtypes != np.float64) & (train_data.dtypes != np.int64)].index.tolist()\n",
        "\n",
        "        pooled_train = Pool(data=X_train,\n",
        "                            label=y_train\n",
        "                            # cat_features=categorical_features\n",
        "                            )\n",
        "\n",
        "        # pooled_test = Pool(data=X_test,\n",
        "        #                     label=y_test\n",
        "        #                     # cat_features=categorical_features\n",
        "        #                     )\n",
        "\n",
        "        self.cbc = CatBoostClassifier(iterations=self.iterations,\n",
        "                                 depth=self.depth,\n",
        "                                 random_seed=42,\n",
        "                                #  task_type=\"GPU\",\n",
        "                                #  devices=\"0:1\",\n",
        "                                 loss_function='CrossEntropy',\n",
        "                                 eval_metric=\"F1\")\n",
        "\n",
        "        print(\"Обучение...\")\n",
        "        self.cbc.fit(pooled_train,\n",
        "                # eval_set=pooled_test,\n",
        "                use_best_model=True,\n",
        "                verbose=True)\n",
        "\n",
        "    def save(self, weights_path: str):\n",
        "        self.cbc.save_model(weights_path,\n",
        "                format=\"cbm\",\n",
        "                export_parameters=None,\n",
        "                pool=None)"
      ],
      "metadata": {
        "id": "jLJ_zTihQgM0"
      },
      "execution_count": 223,
      "outputs": []
    },
    {
      "cell_type": "code",
      "source": [
        "weights_path = 'weights/catboost.cbm'\n",
        "\n",
        "model = CatBoostTrainer(\n",
        "    iterations=10,\n",
        "    depth=10)\n",
        "\n",
        "model.train(X_train, y_train)\n",
        "model.save(weights_path)"
      ],
      "metadata": {
        "id": "zixBNRMbXHt1",
        "outputId": "3072704d-5d63-48e2-a5b1-051c81c16687",
        "colab": {
          "base_uri": "https://localhost:8080/"
        }
      },
      "execution_count": 225,
      "outputs": [
        {
          "output_type": "stream",
          "name": "stdout",
          "text": [
            "Обучение...\n",
            "0:\tlearn: 0.0000000\ttotal: 695us\tremaining: 6.26ms\n",
            "1:\tlearn: 0.0000000\ttotal: 1.67ms\tremaining: 6.67ms\n",
            "2:\tlearn: 0.0000000\ttotal: 2.39ms\tremaining: 5.57ms\n",
            "3:\tlearn: 0.0000000\ttotal: 3.15ms\tremaining: 4.72ms\n",
            "4:\tlearn: 0.0000000\ttotal: 3.88ms\tremaining: 3.88ms\n",
            "5:\tlearn: 0.0000000\ttotal: 4.57ms\tremaining: 3.04ms\n",
            "6:\tlearn: 0.0000000\ttotal: 5.44ms\tremaining: 2.33ms\n",
            "7:\tlearn: 0.0000000\ttotal: 6.39ms\tremaining: 1.6ms\n",
            "8:\tlearn: 0.0000000\ttotal: 7.11ms\tremaining: 789us\n",
            "9:\tlearn: 0.0000000\ttotal: 7.83ms\tremaining: 0us\n"
          ]
        },
        {
          "output_type": "stream",
          "name": "stderr",
          "text": [
            "You should provide test set for use best model. use_best_model parameter has been switched to false value.\n"
          ]
        }
      ]
    },
    {
      "cell_type": "code",
      "source": [
        "class CatBoostPredictor:\n",
        "    def __init__(self, ):\n",
        "        self.cbc = CatBoostClassifier()\n",
        "\n",
        "        self.accnt_ids = None\n",
        "        self.predictions = None\n",
        "        self.submission = None\n",
        "\n",
        "    def load(self, weights_path: str):\n",
        "        self.cbc.load_model(weights_path, format='cbm')\n",
        "\n",
        "    def predict(self, X: pd.DataFrame):\n",
        "        self.accnt_ids = X[['accnt_id']].copy()\n",
        "\n",
        "        pooled = Pool(data=X.drop(['accnt_id'], axis=1))\n",
        "\n",
        "        self.predictions = self.cbc.predict(pooled)\n",
        "\n",
        "        return self.predictions\n",
        "\n",
        "    def build_submission(self, submission_path: str):\n",
        "        self.submission = self.accnt_ids.copy()\n",
        "        self.submission['erly_pnsn_flg'] = self.predictions\n",
        "\n",
        "        self.submission = self.submission.reset_index(drop=True)\n",
        "        self.submission.to_csv(submission_path, header=True)\n",
        "        return self.submission"
      ],
      "metadata": {
        "id": "YPtk7qMLmk_k"
      },
      "execution_count": 260,
      "outputs": []
    },
    {
      "cell_type": "code",
      "source": [
        "model = CatBoostPredictor()\n",
        "model.load(weights_path)\n",
        "predictions = model.predict(processed_data)\n",
        "submission = model.build_submission('submission.csv')"
      ],
      "metadata": {
        "id": "rj_Z-djyn5kY"
      },
      "execution_count": 262,
      "outputs": []
    },
    {
      "cell_type": "code",
      "source": [
        "# model.cbc.predict(X_test)"
      ],
      "metadata": {
        "id": "U-mEcQxYcl93",
        "outputId": "fce868c0-b7a0-4d81-810c-b633dcd4a3e6",
        "colab": {
          "base_uri": "https://localhost:8080/"
        }
      },
      "execution_count": 219,
      "outputs": [
        {
          "output_type": "execute_result",
          "data": {
            "text/plain": [
              "array([0, 0, 0, ..., 0, 0, 0])"
            ]
          },
          "metadata": {},
          "execution_count": 219
        }
      ]
    },
    {
      "cell_type": "code",
      "source": [
        "# f1_score(y_test, model.cbc.predict(X_test))"
      ],
      "metadata": {
        "id": "LwgNt-ZhdNW0",
        "outputId": "c6196f6d-2c6b-4fa3-b3a8-7ed30736ddf0",
        "colab": {
          "base_uri": "https://localhost:8080/"
        }
      },
      "execution_count": 214,
      "outputs": [
        {
          "output_type": "execute_result",
          "data": {
            "text/plain": [
              "0.0"
            ]
          },
          "metadata": {},
          "execution_count": 214
        }
      ]
    },
    {
      "cell_type": "code",
      "source": [
        "# part_counts = 5\n",
        "# data = users['brth_yr', 'prsnt_age', 'pstl_code', 'erly_pnsn_flg'].copy()\n",
        "# test_size = data.shape[0] // part_counts\n",
        "\n",
        "\n",
        "# logs = {}\n",
        "# accuracies, f1_scores, recalls, precisions = [], [], [], []\n",
        "\n",
        "# for part in range(part_counts):\n",
        "#     test_data = data.iloc[part * test_size: (part + 1) * test_size, :]\n",
        "#     train_data = data.drop(test_data.index)"
      ],
      "metadata": {
        "id": "s0REkX-pR13o"
      },
      "execution_count": null,
      "outputs": []
    }
  ]
}