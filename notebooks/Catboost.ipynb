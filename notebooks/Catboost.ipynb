{
  "nbformat": 4,
  "nbformat_minor": 0,
  "metadata": {
    "colab": {
      "provenance": []
    },
    "kernelspec": {
      "name": "python3",
      "display_name": "Python 3"
    },
    "language_info": {
      "name": "python"
    }
  },
  "cells": [
    {
      "cell_type": "code",
      "source": [
        "import pandas as pd\n",
        "import numpy as np\n",
        "\n",
        "import json\n",
        "from sklearn.metrics import accuracy_score, f1_score, recall_score, precision_score\n",
        "from sklearn.model_selection import train_test_split\n",
        "\n",
        "import datetime as dt\n",
        "import yaml\n",
        "import os"
      ],
      "metadata": {
        "id": "ZvON1mEZ9-bV"
      },
      "execution_count": 2,
      "outputs": []
    },
    {
      "cell_type": "code",
      "execution_count": 3,
      "metadata": {
        "id": "HdLewAGJHp3j",
        "colab": {
          "base_uri": "https://localhost:8080/"
        },
        "outputId": "4142ceb3-f383-4e5f-d3ec-7852f8348514"
      },
      "outputs": [
        {
          "output_type": "stream",
          "name": "stdout",
          "text": [
            "Mounted at /content/drive\n"
          ]
        }
      ],
      "source": [
        "# Подключение к диску, чтобы забрать исходный датасет\n",
        "from google.colab import drive\n",
        "drive.mount('/content/drive')"
      ]
    },
    {
      "cell_type": "code",
      "source": [
        "!pip install catboost\n",
        "from catboost import CatBoostClassifier, Pool"
      ],
      "metadata": {
        "colab": {
          "base_uri": "https://localhost:8080/"
        },
        "id": "BdH3VZJ0PBK5",
        "outputId": "a753e7d2-1f92-4348-ec45-c6a1f8726125"
      },
      "execution_count": 4,
      "outputs": [
        {
          "output_type": "stream",
          "name": "stdout",
          "text": [
            "Collecting catboost\n",
            "  Downloading catboost-1.2.7-cp310-cp310-manylinux2014_x86_64.whl.metadata (1.2 kB)\n",
            "Requirement already satisfied: graphviz in /usr/local/lib/python3.10/dist-packages (from catboost) (0.20.3)\n",
            "Requirement already satisfied: matplotlib in /usr/local/lib/python3.10/dist-packages (from catboost) (3.7.1)\n",
            "Requirement already satisfied: numpy<2.0,>=1.16.0 in /usr/local/lib/python3.10/dist-packages (from catboost) (1.26.4)\n",
            "Requirement already satisfied: pandas>=0.24 in /usr/local/lib/python3.10/dist-packages (from catboost) (2.2.2)\n",
            "Requirement already satisfied: scipy in /usr/local/lib/python3.10/dist-packages (from catboost) (1.13.1)\n",
            "Requirement already satisfied: plotly in /usr/local/lib/python3.10/dist-packages (from catboost) (5.24.1)\n",
            "Requirement already satisfied: six in /usr/local/lib/python3.10/dist-packages (from catboost) (1.16.0)\n",
            "Requirement already satisfied: python-dateutil>=2.8.2 in /usr/local/lib/python3.10/dist-packages (from pandas>=0.24->catboost) (2.8.2)\n",
            "Requirement already satisfied: pytz>=2020.1 in /usr/local/lib/python3.10/dist-packages (from pandas>=0.24->catboost) (2024.2)\n",
            "Requirement already satisfied: tzdata>=2022.7 in /usr/local/lib/python3.10/dist-packages (from pandas>=0.24->catboost) (2024.2)\n",
            "Requirement already satisfied: contourpy>=1.0.1 in /usr/local/lib/python3.10/dist-packages (from matplotlib->catboost) (1.3.0)\n",
            "Requirement already satisfied: cycler>=0.10 in /usr/local/lib/python3.10/dist-packages (from matplotlib->catboost) (0.12.1)\n",
            "Requirement already satisfied: fonttools>=4.22.0 in /usr/local/lib/python3.10/dist-packages (from matplotlib->catboost) (4.54.1)\n",
            "Requirement already satisfied: kiwisolver>=1.0.1 in /usr/local/lib/python3.10/dist-packages (from matplotlib->catboost) (1.4.7)\n",
            "Requirement already satisfied: packaging>=20.0 in /usr/local/lib/python3.10/dist-packages (from matplotlib->catboost) (24.1)\n",
            "Requirement already satisfied: pillow>=6.2.0 in /usr/local/lib/python3.10/dist-packages (from matplotlib->catboost) (10.4.0)\n",
            "Requirement already satisfied: pyparsing>=2.3.1 in /usr/local/lib/python3.10/dist-packages (from matplotlib->catboost) (3.2.0)\n",
            "Requirement already satisfied: tenacity>=6.2.0 in /usr/local/lib/python3.10/dist-packages (from plotly->catboost) (9.0.0)\n",
            "Downloading catboost-1.2.7-cp310-cp310-manylinux2014_x86_64.whl (98.7 MB)\n",
            "\u001b[2K   \u001b[90m━━━━━━━━━━━━━━━━━━━━━━━━━━━━━━━━━━━━━━━━\u001b[0m \u001b[32m98.7/98.7 MB\u001b[0m \u001b[31m7.6 MB/s\u001b[0m eta \u001b[36m0:00:00\u001b[0m\n",
            "\u001b[?25hInstalling collected packages: catboost\n",
            "Successfully installed catboost-1.2.7\n"
          ]
        }
      ]
    },
    {
      "cell_type": "code",
      "source": [
        "dataset_path=\"/content/drive/MyDrive/Hacks/LeadersOfDigital NN 2024/data\"\n",
        "\n",
        "users = pd.read_csv(f'{dataset_path}/cntrbtrs_clnts_ops_trn.csv', delimiter=';', encoding='cp1251', dtype={'okato': str, 'pstl_code': str}, parse_dates=['accnt_bgn_date'])\n",
        "# trunc = pd.read_csv(f'{dataset_path}/trnsctns_ops_trn.csv', delimiter=';', encoding='cp1251', parse_dates=['oprtn_date'])"
      ],
      "metadata": {
        "id": "iLW_nZ6DPf1r"
      },
      "execution_count": 5,
      "outputs": []
    },
    {
      "cell_type": "code",
      "source": [
        "# Классы обработчиков данных, которые являются полной копией из файла data_processors.py\n",
        "\n",
        "class DataProcessorV1:\n",
        "    \"\"\"\n",
        "    Исходный датасет, только клиенты\n",
        "    \"\"\"\n",
        "    def __init__(self, path_to_configs, config_name):\n",
        "        current_weights_path = os.path.join(path_to_configs, config_name)\n",
        "        with open(current_weights_path, 'r') as file:\n",
        "            self.config = yaml.safe_load(file)\n",
        "\n",
        "    def process(self, transactions: pd.DataFrame, clients: pd.DataFrame):\n",
        "        clients_columns_typing = self.config['data']['columns']['clients']\n",
        "        clients_columns = list(self.config['data']['columns']['clients'].keys())\n",
        "\n",
        "        clients = clients[clients_columns]\n",
        "\n",
        "        clients['gndr'] = clients['gndr'].map({'ж': 0, 'м': 1})\n",
        "        clients['accnt_bgn_date'] = clients['accnt_bgn_date'].astype(np.int64) // 1e9\n",
        "        clients['accnt_status'] = clients['accnt_status'].map({'Накопительный период': 0, 'Выплатной период': 1})\n",
        "        clients['okato'] = clients['okato'].fillna('0').apply(lambda x: str(x)[:2])\n",
        "        clients['phn'] = clients['phn'].map({'нет': 0, 'да': 1})\n",
        "        clients['email'] = clients['email'].map({'нет': 0, 'да': 1})\n",
        "        clients['lk'] = clients['lk'].map({'нет': 0, 'да': 1})\n",
        "        clients['assgn_npo'] = clients['assgn_npo'].map({'нет': 0, 'да': 1})\n",
        "        clients['assgn_ops'] = clients['assgn_ops'].map({'нет': 0, 'да': 1})\n",
        "\n",
        "        self.processed_data = clients.astype(\n",
        "            clients_columns_typing\n",
        "        )\n",
        "\n",
        "        return self.processed_data"
      ],
      "metadata": {
        "id": "U9IXGI4PI6F5"
      },
      "execution_count": 6,
      "outputs": []
    },
    {
      "cell_type": "code",
      "source": [
        "# В папку configs необходимо переместить конфиг обработчика соответствующей версии\n",
        "# и дополнить data.columns.clients параметром 'erly_pnsn_flg': 'int'\n",
        "os.mkdir(\"/content/configs\")\n",
        "os.mkdir(\"/content/weights\")"
      ],
      "metadata": {
        "id": "w1KBjao9Q37F"
      },
      "execution_count": 9,
      "outputs": []
    },
    {
      "cell_type": "code",
      "source": [
        "# Создать экземпляр класса соответствующей версии обработчика\n",
        "processor = DataProcessorV1(\"/content/configs\", \"processor_v1.yaml\")\n",
        "data = processor.process(_, users.copy())"
      ],
      "metadata": {
        "id": "jVS8Yh86JcPU",
        "outputId": "20c2c908-0ac0-4073-c778-43d4b38991be",
        "colab": {
          "base_uri": "https://localhost:8080/"
        }
      },
      "execution_count": 15,
      "outputs": [
        {
          "output_type": "stream",
          "name": "stderr",
          "text": [
            "<ipython-input-6-e9c680c116b5>:18: SettingWithCopyWarning: \n",
            "A value is trying to be set on a copy of a slice from a DataFrame.\n",
            "Try using .loc[row_indexer,col_indexer] = value instead\n",
            "\n",
            "See the caveats in the documentation: https://pandas.pydata.org/pandas-docs/stable/user_guide/indexing.html#returning-a-view-versus-a-copy\n",
            "  clients['gndr'] = clients['gndr'].map({'ж': 0, 'м': 1})\n",
            "<ipython-input-6-e9c680c116b5>:19: SettingWithCopyWarning: \n",
            "A value is trying to be set on a copy of a slice from a DataFrame.\n",
            "Try using .loc[row_indexer,col_indexer] = value instead\n",
            "\n",
            "See the caveats in the documentation: https://pandas.pydata.org/pandas-docs/stable/user_guide/indexing.html#returning-a-view-versus-a-copy\n",
            "  clients['accnt_bgn_date'] = clients['accnt_bgn_date'].astype(np.int64) // 1e9\n",
            "<ipython-input-6-e9c680c116b5>:20: SettingWithCopyWarning: \n",
            "A value is trying to be set on a copy of a slice from a DataFrame.\n",
            "Try using .loc[row_indexer,col_indexer] = value instead\n",
            "\n",
            "See the caveats in the documentation: https://pandas.pydata.org/pandas-docs/stable/user_guide/indexing.html#returning-a-view-versus-a-copy\n",
            "  clients['accnt_status'] = clients['accnt_status'].map({'Накопительный период': 0, 'Выплатной период': 1})\n",
            "<ipython-input-6-e9c680c116b5>:21: SettingWithCopyWarning: \n",
            "A value is trying to be set on a copy of a slice from a DataFrame.\n",
            "Try using .loc[row_indexer,col_indexer] = value instead\n",
            "\n",
            "See the caveats in the documentation: https://pandas.pydata.org/pandas-docs/stable/user_guide/indexing.html#returning-a-view-versus-a-copy\n",
            "  clients['okato'] = clients['okato'].fillna('0').apply(lambda x: str(x)[:2])\n",
            "<ipython-input-6-e9c680c116b5>:22: SettingWithCopyWarning: \n",
            "A value is trying to be set on a copy of a slice from a DataFrame.\n",
            "Try using .loc[row_indexer,col_indexer] = value instead\n",
            "\n",
            "See the caveats in the documentation: https://pandas.pydata.org/pandas-docs/stable/user_guide/indexing.html#returning-a-view-versus-a-copy\n",
            "  clients['phn'] = clients['phn'].map({'нет': 0, 'да': 1})\n",
            "<ipython-input-6-e9c680c116b5>:23: SettingWithCopyWarning: \n",
            "A value is trying to be set on a copy of a slice from a DataFrame.\n",
            "Try using .loc[row_indexer,col_indexer] = value instead\n",
            "\n",
            "See the caveats in the documentation: https://pandas.pydata.org/pandas-docs/stable/user_guide/indexing.html#returning-a-view-versus-a-copy\n",
            "  clients['email'] = clients['email'].map({'нет': 0, 'да': 1})\n",
            "<ipython-input-6-e9c680c116b5>:24: SettingWithCopyWarning: \n",
            "A value is trying to be set on a copy of a slice from a DataFrame.\n",
            "Try using .loc[row_indexer,col_indexer] = value instead\n",
            "\n",
            "See the caveats in the documentation: https://pandas.pydata.org/pandas-docs/stable/user_guide/indexing.html#returning-a-view-versus-a-copy\n",
            "  clients['lk'] = clients['lk'].map({'нет': 0, 'да': 1})\n",
            "<ipython-input-6-e9c680c116b5>:25: SettingWithCopyWarning: \n",
            "A value is trying to be set on a copy of a slice from a DataFrame.\n",
            "Try using .loc[row_indexer,col_indexer] = value instead\n",
            "\n",
            "See the caveats in the documentation: https://pandas.pydata.org/pandas-docs/stable/user_guide/indexing.html#returning-a-view-versus-a-copy\n",
            "  clients['assgn_npo'] = clients['assgn_npo'].map({'нет': 0, 'да': 1})\n",
            "<ipython-input-6-e9c680c116b5>:26: SettingWithCopyWarning: \n",
            "A value is trying to be set on a copy of a slice from a DataFrame.\n",
            "Try using .loc[row_indexer,col_indexer] = value instead\n",
            "\n",
            "See the caveats in the documentation: https://pandas.pydata.org/pandas-docs/stable/user_guide/indexing.html#returning-a-view-versus-a-copy\n",
            "  clients['assgn_ops'] = clients['assgn_ops'].map({'нет': 0, 'да': 1})\n"
          ]
        }
      ]
    },
    {
      "cell_type": "code",
      "source": [
        "# Разделение датасета на обучающий и тестовый\n",
        "\n",
        "target_column_name = 'erly_pnsn_flg'\n",
        "\n",
        "X_data = data.drop([target_column_name], axis=1)\n",
        "y_data = data[target_column_name]\n",
        "\n",
        "X_train, X_test, y_train, y_test = train_test_split(\n",
        "    X_data,\n",
        "    y_data,\n",
        "    test_size=0.05,\n",
        "    random_state=42,\n",
        "    shuffle=True,\n",
        "    stratify=data[target_column_name])"
      ],
      "metadata": {
        "id": "AM4oPkpcTSsF"
      },
      "execution_count": 16,
      "outputs": []
    },
    {
      "cell_type": "code",
      "source": [
        "# Универсальный класс обучения Catboost\n",
        "\n",
        "class CatBoostTrainer:\n",
        "    def __init__(self, iterations: int, depth: int):\n",
        "        self.iterations = iterations\n",
        "        self.depth = depth\n",
        "\n",
        "        self.cbc = None\n",
        "\n",
        "    def train(self, X_train, y_train):\n",
        "        # categorical_features = train_data.dtypes[\n",
        "        #     (train_data.dtypes != np.float64) & (train_data.dtypes != np.int64)].index.tolist()\n",
        "\n",
        "        pooled_train = Pool(data=X_train.drop(['accnt_id'], axis=1),\n",
        "                            label=y_train\n",
        "                            # cat_features=categorical_features\n",
        "                            )\n",
        "\n",
        "        # pooled_test = Pool(data=X_test.drop(['accnt_id'], axis=1),\n",
        "        #                     label=y_test\n",
        "        #                     # cat_features=categorical_features\n",
        "        #                     )\n",
        "\n",
        "        self.cbc = CatBoostClassifier(iterations=self.iterations,\n",
        "                                 depth=self.depth,\n",
        "                                 random_seed=42,\n",
        "                                #  task_type=\"GPU\",\n",
        "                                #  devices=\"0:1\",\n",
        "                                 loss_function='CrossEntropy',\n",
        "                                 eval_metric=\"F1\")\n",
        "\n",
        "        print(\"Обучение...\")\n",
        "        self.cbc.fit(pooled_train,\n",
        "                # eval_set=pooled_test,\n",
        "                use_best_model=True,\n",
        "                verbose=True)\n",
        "\n",
        "    def save(self, weights_path: str):\n",
        "        self.cbc.save_model(weights_path,\n",
        "                format=\"cbm\",\n",
        "                export_parameters=None,\n",
        "                pool=None)"
      ],
      "metadata": {
        "id": "jLJ_zTihQgM0"
      },
      "execution_count": 17,
      "outputs": []
    },
    {
      "cell_type": "code",
      "source": [
        "# Обучение модели и сохранение весов\n",
        "\n",
        "weights_path = 'weights/classifier_v1.cbm'\n",
        "\n",
        "model = CatBoostTrainer(\n",
        "    iterations=10,\n",
        "    depth=10)\n",
        "\n",
        "model.train(X_train, y_train)\n",
        "model.save(weights_path)"
      ],
      "metadata": {
        "colab": {
          "base_uri": "https://localhost:8080/"
        },
        "id": "zixBNRMbXHt1",
        "outputId": "b9418ad6-cdfc-46e3-80b1-daffffe5305c"
      },
      "execution_count": 18,
      "outputs": [
        {
          "output_type": "stream",
          "name": "stdout",
          "text": [
            "Обучение...\n"
          ]
        },
        {
          "output_type": "stream",
          "name": "stderr",
          "text": [
            "You should provide test set for use best model. use_best_model parameter has been switched to false value.\n"
          ]
        },
        {
          "output_type": "stream",
          "name": "stdout",
          "text": [
            "0:\tlearn: 0.9958082\ttotal: 403ms\tremaining: 3.63s\n",
            "1:\tlearn: 0.9958082\ttotal: 584ms\tremaining: 2.34s\n",
            "2:\tlearn: 0.9958624\ttotal: 844ms\tremaining: 1.97s\n",
            "3:\tlearn: 0.9944902\ttotal: 1.14s\tremaining: 1.71s\n",
            "4:\tlearn: 0.9944628\ttotal: 1.39s\tremaining: 1.39s\n",
            "5:\tlearn: 0.9933645\ttotal: 1.63s\tremaining: 1.08s\n",
            "6:\tlearn: 0.9940237\ttotal: 1.86s\tremaining: 797ms\n",
            "7:\tlearn: 0.9944354\ttotal: 2.01s\tremaining: 503ms\n",
            "8:\tlearn: 0.9944628\ttotal: 2.26s\tremaining: 251ms\n",
            "9:\tlearn: 0.9944902\ttotal: 2.54s\tremaining: 0us\n"
          ]
        }
      ]
    },
    {
      "cell_type": "code",
      "source": [
        "# Универсальный класс предиктора\n",
        "\n",
        "class CatBoostPredictor:\n",
        "    def __init__(self, ):\n",
        "        self.cbc = CatBoostClassifier()\n",
        "\n",
        "        self.accnt_ids = None\n",
        "        self.predictions = None\n",
        "        self.submission = None\n",
        "\n",
        "    def load(self, weights_path: str):\n",
        "        self.cbc.load_model(weights_path, format='cbm')\n",
        "\n",
        "    def predict(self, X: pd.DataFrame):\n",
        "        self.accnt_ids = X[['accnt_id']].copy()\n",
        "\n",
        "        pooled = Pool(data=X.drop(['accnt_id'], axis=1))\n",
        "\n",
        "        self.predictions = self.cbc.predict(pooled)\n",
        "\n",
        "        return self.predictions\n",
        "\n",
        "    def build_submission(self, submission_path: str):\n",
        "        self.submission = self.accnt_ids.copy()\n",
        "        self.submission['erly_pnsn_flg'] = self.predictions\n",
        "\n",
        "        self.submission = self.submission.reset_index(drop=True)\n",
        "        self.submission.to_csv(submission_path, header=True)\n",
        "        return self.submission"
      ],
      "metadata": {
        "id": "YPtk7qMLmk_k"
      },
      "execution_count": 19,
      "outputs": []
    },
    {
      "cell_type": "code",
      "source": [
        "model = CatBoostPredictor()\n",
        "model.load(weights_path)\n",
        "predictions = model.predict(X_test)\n",
        "# submission = model.build_submission('submission.csv')"
      ],
      "metadata": {
        "id": "rj_Z-djyn5kY"
      },
      "execution_count": 20,
      "outputs": []
    },
    {
      "cell_type": "code",
      "source": [
        "f1_score(y_test, model.cbc.predict(X_test))"
      ],
      "metadata": {
        "colab": {
          "base_uri": "https://localhost:8080/"
        },
        "id": "LwgNt-ZhdNW0",
        "outputId": "1e931414-63ae-4ef9-919d-f9dabdffacfe"
      },
      "execution_count": 21,
      "outputs": [
        {
          "output_type": "execute_result",
          "data": {
            "text/plain": [
              "0.9963786859803414"
            ]
          },
          "metadata": {},
          "execution_count": 21
        }
      ]
    }
  ]
}